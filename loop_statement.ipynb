{
  "nbformat": 4,
  "nbformat_minor": 0,
  "metadata": {
    "colab": {
      "provenance": [],
      "authorship_tag": "ABX9TyNj9iPBZ+WdS5gRyK63lGMC",
      "include_colab_link": true
    },
    "kernelspec": {
      "name": "python3",
      "display_name": "Python 3"
    },
    "language_info": {
      "name": "python"
    }
  },
  "cells": [
    {
      "cell_type": "markdown",
      "metadata": {
        "id": "view-in-github",
        "colab_type": "text"
      },
      "source": [
        "<a href=\"https://colab.research.google.com/github/poonamkhot123/Loop_statements/blob/main/loop_statement.ipynb\" target=\"_parent\"><img src=\"https://colab.research.google.com/assets/colab-badge.svg\" alt=\"Open In Colab\"/></a>"
      ]
    },
    {
      "cell_type": "markdown",
      "source": [
        "Given a list [4, 8, 2, 10, 6], find the maximum number using a for loop."
      ],
      "metadata": {
        "id": "G7JrMx6ZSw1N"
      }
    },
    {
      "cell_type": "code",
      "source": [
        "List=[4,8, 2, 10, 6]\n",
        "max = List[0]\n",
        "for number in List:\n",
        "    if number > max:\n",
        "        max = number\n",
        "print(max)\n"
      ],
      "metadata": {
        "colab": {
          "base_uri": "https://localhost:8080/"
        },
        "id": "p11ATnfJTPCB",
        "outputId": "66877a1c-32f5-429b-bdb5-08e296ea90d8"
      },
      "execution_count": null,
      "outputs": [
        {
          "output_type": "stream",
          "name": "stdout",
          "text": [
            "10\n"
          ]
        }
      ]
    },
    {
      "cell_type": "markdown",
      "source": [
        "Take input from the user and find the factorial of the number using a for loop"
      ],
      "metadata": {
        "id": "V1jqDumPSygW"
      }
    },
    {
      "cell_type": "code",
      "source": [
        "num = int(input(\"Enter a number: \"))\n",
        "fact = 1\n",
        "for i in range(1, num + 1):\n",
        "    fact = fact*i\n",
        "print(fact)\n"
      ],
      "metadata": {
        "colab": {
          "base_uri": "https://localhost:8080/"
        },
        "id": "g9zdACniTQmm",
        "outputId": "eccbadaa-9ad5-4c75-fa77-68635bca67c5"
      },
      "execution_count": null,
      "outputs": [
        {
          "output_type": "stream",
          "name": "stdout",
          "text": [
            "Enter a number: 12\n",
            "479001600\n"
          ]
        }
      ]
    },
    {
      "cell_type": "markdown",
      "source": [
        "Given a list ['apple', 'banana', 'cherry', 'date', 'fig'], print each element along with its index using a for loop."
      ],
      "metadata": {
        "id": "D59gASLJSzRt"
      }
    },
    {
      "cell_type": "code",
      "source": [
        "List = ['apple', 'banana', 'cherry', 'date', 'fig']\n",
        "for index, fruit in enumerate(List):\n",
        "    print(index, fruit)\n"
      ],
      "metadata": {
        "id": "o2Gr_QVvTRv7",
        "colab": {
          "base_uri": "https://localhost:8080/"
        },
        "outputId": "f429d8c8-fca5-47f8-f2ff-e1ebd2bdefd0"
      },
      "execution_count": null,
      "outputs": [
        {
          "output_type": "stream",
          "name": "stdout",
          "text": [
            "0 apple\n",
            "1 banana\n",
            "2 cherry\n",
            "3 date\n",
            "4 fig\n"
          ]
        }
      ]
    },
    {
      "cell_type": "markdown",
      "source": [
        "Take a string input from the user and count the number of uppercase letters using a for loop.(use char.isupper()😊)"
      ],
      "metadata": {
        "id": "2ly1ATabSzdZ"
      }
    },
    {
      "cell_type": "code",
      "source": [
        "str = input(\"Enter a string: \")\n",
        "counter = 0\n",
        "for char in str:\n",
        "    if char.isupper():\n",
        "        counter += 1\n",
        "print(counter)\n"
      ],
      "metadata": {
        "id": "FqyulGT5CgOx",
        "colab": {
          "base_uri": "https://localhost:8080/"
        },
        "outputId": "77266268-cdb6-4439-ec45-b8e81f2bce68"
      },
      "execution_count": null,
      "outputs": [
        {
          "output_type": "stream",
          "name": "stdout",
          "text": [
            "Enter a string: POONAm\n",
            "5\n"
          ]
        }
      ]
    },
    {
      "cell_type": "markdown",
      "source": [
        "Given a list of integers [17, 25, 39, 42, 58, 71, 86, 93], find the sum of all the even numbers using a for loop."
      ],
      "metadata": {
        "id": "SoafCwZ8Szo9"
      }
    },
    {
      "cell_type": "code",
      "source": [
        "List = [17, 25, 39, 42, 58, 71, 86, 93]\n",
        "sum = 0\n",
        "for i in List:\n",
        "    sum=sum +i\n",
        "print(\"sum Of numbers\",sum)\n"
      ],
      "metadata": {
        "id": "03diG-97TUxU",
        "colab": {
          "base_uri": "https://localhost:8080/"
        },
        "outputId": "6c59076b-9dd0-4cb7-e4e1-70b767e37856"
      },
      "execution_count": null,
      "outputs": [
        {
          "output_type": "stream",
          "name": "stdout",
          "text": [
            "sum Of numbers 431\n"
          ]
        }
      ]
    },
    {
      "cell_type": "markdown",
      "source": [
        "Given a list [3, 6, 9, 12, 15], calculate the product of all the elements using a for loop."
      ],
      "metadata": {
        "id": "5-tC967bSz0X"
      }
    },
    {
      "cell_type": "code",
      "source": [
        "List = [3, 6, 9, 12, 15]\n",
        "product = 1\n",
        "for i in List:\n",
        "    product = product*i\n",
        "print(product)\n"
      ],
      "metadata": {
        "id": "LVjy8p8aTX-V",
        "colab": {
          "base_uri": "https://localhost:8080/"
        },
        "outputId": "ec7f03fb-2238-46f4-b8a9-699aa80b258d"
      },
      "execution_count": null,
      "outputs": [
        {
          "output_type": "stream",
          "name": "stdout",
          "text": [
            "29160\n"
          ]
        }
      ]
    },
    {
      "cell_type": "markdown",
      "source": [
        "Given a list [2, 3, 5, 7, 11, 13, 17, 19], find the index of the first occurrence of the number 7 using a for loop."
      ],
      "metadata": {
        "id": "4Hu4B4dpSz8g"
      }
    },
    {
      "cell_type": "code",
      "source": [
        "numbers = [2, 3, 5, 7, 11, 13, 17, 19]\n",
        "for index, num in enumerate(numbers):\n",
        "    if num == 7:\n",
        "        print(index)\n",
        "        break\n",
        "\n",
        "\n"
      ],
      "metadata": {
        "id": "O2Fg7kzrTYz8"
      },
      "execution_count": null,
      "outputs": []
    }
  ]
}